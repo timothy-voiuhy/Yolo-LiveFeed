{
 "cells": [
  {
   "cell_type": "code",
   "execution_count": 8,
   "metadata": {},
   "outputs": [],
   "source": [
    "import torch \n",
    "import tensorflow as tf"
   ]
  },
  {
   "cell_type": "code",
   "execution_count": 10,
   "metadata": {},
   "outputs": [
    {
     "data": {
      "text/plain": [
       "<tf.Tensor: shape=(5, 5), dtype=float32, numpy=\n",
       "array([[   -0.74178,     0.66092,    -0.17802,      1.1116,    -0.10084],\n",
       "       [   -0.95982,     0.10061,      1.3094,     0.11468,     0.39143],\n",
       "       [    0.91242,     0.50773,      1.7867,      1.0297,      1.3295],\n",
       "       [     1.0153,     0.26911,    -0.25538,    -0.33126,    -0.84806],\n",
       "       [    0.43271,    -0.59342,    -0.35418,      -2.599,     0.30582]], dtype=float32)>"
      ]
     },
     "execution_count": 10,
     "metadata": {},
     "output_type": "execute_result"
    }
   ],
   "source": [
    "tensor1  = tf.random.normal((3,5,5))\n",
    "tensor1[0]"
   ]
  },
  {
   "cell_type": "code",
   "execution_count": 17,
   "metadata": {},
   "outputs": [
    {
     "data": {
      "text/plain": [
       "5"
      ]
     },
     "execution_count": 17,
     "metadata": {},
     "output_type": "execute_result"
    }
   ],
   "source": [
    "tensor = torch.randn((3,5,5))\n",
    "# frame_len, frame_width, __ = tensor.shape\n",
    "# frame_len, frame_width, __\n",
    "# tensor[1]\n",
    "tensor[0].shape[0]\n"
   ]
  },
  {
   "cell_type": "code",
   "execution_count": 3,
   "metadata": {},
   "outputs": [
    {
     "name": "stdout",
     "output_type": "stream",
     "text": [
      "0\n",
      "1\n",
      "2\n"
     ]
    }
   ],
   "source": [
    "for __ in range(3):\n",
    "    print(__)"
   ]
  },
  {
   "cell_type": "code",
   "execution_count": 4,
   "metadata": {},
   "outputs": [
    {
     "name": "stdout",
     "output_type": "stream",
     "text": [
      "[{'div': [(0, 0), (640, 0), (640, 360), (0, 360)], 'Pos': 'LD'}, {'div': [(640, 0), (1280, 0), (1280, 360), (640, 360)], 'Pos': 'CD'}, {'div': [(1280, 0), (1920, 0), (1920, 360), (1280, 360)], 'Pos': 'RD'}, {'div': [(0, 360), (640, 360), (640, 720), (0, 720)], 'Pos': 'LC'}, {'div': [(640, 360), (1280, 360), (1280, 720), (640, 720)], 'Pos': 'CC'}, {'div': [(1280, 360), (1920, 360), (1920, 720), (1280, 720)], 'Pos': 'RC'}, {'div': [(0, 720), (640, 720), (640, 1080), (0, 1080)], 'Pos': 'LU'}, {'div': [(640, 720), (1280, 720), (1280, 1080), (640, 1080)], 'Pos': 'CU'}, {'div': [(1280, 720), (1920, 720), (1920, 1080), (1280, 1080)], 'Pos': 'RU'}]\n"
     ]
    }
   ],
   "source": [
    "from yolo_pre import calculateDirection\n",
    "\n",
    "calculateDirection(torch.randn((1080, 1920, 2)))"
   ]
  },
  {
   "cell_type": "code",
   "execution_count": 5,
   "metadata": {},
   "outputs": [
    {
     "ename": "TypeError",
     "evalue": "list.append() takes exactly one argument (2 given)",
     "output_type": "error",
     "traceback": [
      "\u001b[0;31m---------------------------------------------------------------------------\u001b[0m",
      "\u001b[0;31mTypeError\u001b[0m                                 Traceback (most recent call last)",
      "Cell \u001b[0;32mIn[5], line 2\u001b[0m\n\u001b[1;32m      1\u001b[0m mylist \u001b[38;5;241m=\u001b[39m[]\n\u001b[0;32m----> 2\u001b[0m \u001b[43mmylist\u001b[49m\u001b[38;5;241;43m.\u001b[39;49m\u001b[43mappend\u001b[49m\u001b[43m(\u001b[49m\u001b[43m(\u001b[49m\u001b[38;5;241;43m2\u001b[39;49m\u001b[43m,\u001b[49m\u001b[38;5;241;43m3\u001b[39;49m\u001b[43m)\u001b[49m\u001b[43m,\u001b[49m\u001b[43m(\u001b[49m\u001b[38;5;241;43m4\u001b[39;49m\u001b[43m,\u001b[49m\u001b[38;5;241;43m5\u001b[39;49m\u001b[43m)\u001b[49m\u001b[43m)\u001b[49m\n\u001b[1;32m      3\u001b[0m mylist\n",
      "\u001b[0;31mTypeError\u001b[0m: list.append() takes exactly one argument (2 given)"
     ]
    }
   ],
   "source": [
    "mylist =[]\n",
    "mylist.append((2,3),(4,5))\n",
    "mylist"
   ]
  }
 ],
 "metadata": {
  "kernelspec": {
   "display_name": ".sys6pyenv",
   "language": "python",
   "name": "python3"
  },
  "language_info": {
   "codemirror_mode": {
    "name": "ipython",
    "version": 3
   },
   "file_extension": ".py",
   "mimetype": "text/x-python",
   "name": "python",
   "nbconvert_exporter": "python",
   "pygments_lexer": "ipython3",
   "version": "3.9.20"
  }
 },
 "nbformat": 4,
 "nbformat_minor": 2
}
